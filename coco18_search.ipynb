{
 "cells": [
  {
   "cell_type": "code",
   "execution_count": 1,
   "metadata": {},
   "outputs": [],
   "source": [
    "import numpy as np\n",
    "import pandas as pd\n",
    "\n",
    "import os\n",
    "import json\n",
    "import copy\n",
    "import shutil\n",
    "import PIL\n",
    "\n",
    "import torch\n",
    "import torch.nn as nn\n",
    "from torch.utils.data import DataLoader\n",
    "from torchvision import datasets, models, transforms, utils\n",
    "\n",
    "from tqdm import tqdm\n",
    "from core.dataset import COCODataset, COCODatasetWithID\n",
    "from core.model import Model\n",
    "from core.metrics import AccuracyLogger"
   ]
  },
  {
   "cell_type": "markdown",
   "metadata": {},
   "source": [
    "read in training, validation, test data"
   ]
  },
  {
   "cell_type": "code",
   "execution_count": 2,
   "metadata": {},
   "outputs": [],
   "source": [
    "paper_data_path_train = './debug/coco_search18_fixations_TP_train_split1.json'\n",
    "df_train = pd.read_json(paper_data_path_train)\n",
    "paper_data_path_valid = './debug/coco_search18_fixations_TP_validation_split1.json'\n",
    "df_valid = pd.read_json(paper_data_path_valid)\n",
    "paper_data_path_test = './debug/coco_search18_fixations_TP_test.json'\n",
    "df_test = pd.read_json(paper_data_path_test)"
   ]
  },
  {
   "cell_type": "code",
   "execution_count": 3,
   "metadata": {},
   "outputs": [
    {
     "data": {
      "text/plain": [
       "dict_keys(['info', 'licenses', 'images', 'annotations', 'categories'])"
      ]
     },
     "execution_count": 3,
     "metadata": {},
     "output_type": "execute_result"
    }
   ],
   "source": [
    "with open('./COCOstuff/annotations_UnRel_compatible/train.json', \"r\") as f:\n",
    "    project_json = json.load(f)\n",
    "    \n",
    "project_json.keys()"
   ]
  },
  {
   "cell_type": "code",
   "execution_count": 7,
   "metadata": {},
   "outputs": [
    {
     "data": {
      "text/plain": [
       "dict_keys(['info', 'licenses', 'images', 'annotations', 'categories'])"
      ]
     },
     "execution_count": 7,
     "metadata": {},
     "output_type": "execute_result"
    }
   ],
   "source": [
    "project_json.keys()"
   ]
  },
  {
   "cell_type": "code",
   "execution_count": 4,
   "metadata": {},
   "outputs": [
    {
     "data": {
      "text/plain": [
       "118287"
      ]
     },
     "execution_count": 4,
     "metadata": {},
     "output_type": "execute_result"
    }
   ],
   "source": [
    "len(project_json['images'])"
   ]
  },
  {
   "cell_type": "code",
   "execution_count": 5,
   "metadata": {},
   "outputs": [
    {
     "data": {
      "text/plain": [
       "[{'supercategory': 'person', 'id': 1, 'name': 'person'},\n",
       " {'supercategory': 'vehicle', 'id': 2, 'name': 'bicycle'},\n",
       " {'supercategory': 'vehicle', 'id': 3, 'name': 'car'},\n",
       " {'supercategory': 'vehicle', 'id': 4, 'name': 'motorcycle'},\n",
       " {'supercategory': 'vehicle', 'id': 5, 'name': 'airplane'},\n",
       " {'supercategory': 'vehicle', 'id': 6, 'name': 'bus'},\n",
       " {'supercategory': 'vehicle', 'id': 7, 'name': 'train'},\n",
       " {'supercategory': 'vehicle', 'id': 8, 'name': 'truck'},\n",
       " {'supercategory': 'vehicle', 'id': 9, 'name': 'boat'},\n",
       " {'supercategory': 'outdoor', 'id': 10, 'name': 'traffic light'},\n",
       " {'supercategory': 'outdoor', 'id': 15, 'name': 'bench'},\n",
       " {'supercategory': 'animal', 'id': 17, 'name': 'cat'},\n",
       " {'supercategory': 'animal', 'id': 18, 'name': 'dog'},\n",
       " {'supercategory': 'animal', 'id': 19, 'name': 'horse'},\n",
       " {'supercategory': 'animal', 'id': 22, 'name': 'elephant'},\n",
       " {'supercategory': 'animal', 'id': 25, 'name': 'giraffe'},\n",
       " {'supercategory': 'accessory', 'id': 28, 'name': 'umbrella'},\n",
       " {'supercategory': 'accessory', 'id': 31, 'name': 'handbag'},\n",
       " {'supercategory': 'accessory', 'id': 32, 'name': 'tie'},\n",
       " {'supercategory': 'accessory', 'id': 33, 'name': 'suitcase'},\n",
       " {'supercategory': 'sports', 'id': 37, 'name': 'sports ball'},\n",
       " {'supercategory': 'sports', 'id': 41, 'name': 'skateboard'},\n",
       " {'supercategory': 'sports', 'id': 42, 'name': 'surfboard'},\n",
       " {'supercategory': 'furniture', 'id': 62, 'name': 'chair'},\n",
       " {'supercategory': 'furniture', 'id': 63, 'name': 'couch'},\n",
       " {'supercategory': 'furniture', 'id': 65, 'name': 'bed'},\n",
       " {'supercategory': 'electronic', 'id': 77, 'name': 'cell phone'},\n",
       " {'supercategory': 'appliance', 'id': 82, 'name': 'refrigerator'},\n",
       " {'supercategory': 'indoor', 'id': 85, 'name': 'clock'},\n",
       " {'supercategory': 'ground', 'id': 149, 'name': 'road'},\n",
       " {'supercategory': 'building', 'id': 151, 'name': 'roof'},\n",
       " {'supercategory': 'furniture-stuff', 'id': 165, 'name': 'table'},\n",
       " {'supercategory': 'plant', 'id': 169, 'name': 'tree'}]"
      ]
     },
     "execution_count": 5,
     "metadata": {},
     "output_type": "execute_result"
    }
   ],
   "source": [
    "project_json['categories']"
   ]
  },
  {
   "cell_type": "code",
   "execution_count": 6,
   "metadata": {},
   "outputs": [
    {
     "data": {
      "text/html": [
       "<div>\n",
       "<style scoped>\n",
       "    .dataframe tbody tr th:only-of-type {\n",
       "        vertical-align: middle;\n",
       "    }\n",
       "\n",
       "    .dataframe tbody tr th {\n",
       "        vertical-align: top;\n",
       "    }\n",
       "\n",
       "    .dataframe thead th {\n",
       "        text-align: right;\n",
       "    }\n",
       "</style>\n",
       "<table border=\"1\" class=\"dataframe\">\n",
       "  <thead>\n",
       "    <tr style=\"text-align: right;\">\n",
       "      <th></th>\n",
       "      <th>name</th>\n",
       "      <th>subject</th>\n",
       "      <th>task</th>\n",
       "      <th>condition</th>\n",
       "      <th>bbox</th>\n",
       "      <th>X</th>\n",
       "      <th>Y</th>\n",
       "      <th>T</th>\n",
       "      <th>length</th>\n",
       "      <th>correct</th>\n",
       "      <th>RT</th>\n",
       "      <th>split</th>\n",
       "    </tr>\n",
       "  </thead>\n",
       "  <tbody>\n",
       "    <tr>\n",
       "      <th>0</th>\n",
       "      <td>000000478726.jpg</td>\n",
       "      <td>2</td>\n",
       "      <td>bottle</td>\n",
       "      <td>present</td>\n",
       "      <td>[1063, 68, 95, 334]</td>\n",
       "      <td>[848.2, 799.2, 731.1, 1114.4, 1121.5]</td>\n",
       "      <td>[517.2, 476.2, 383.4, 271.1, 205.9]</td>\n",
       "      <td>[73, 193, 95, 635, 592]</td>\n",
       "      <td>5</td>\n",
       "      <td>1</td>\n",
       "      <td>1159</td>\n",
       "      <td>train</td>\n",
       "    </tr>\n",
       "    <tr>\n",
       "      <th>1</th>\n",
       "      <td>000000488390.jpg</td>\n",
       "      <td>2</td>\n",
       "      <td>bottle</td>\n",
       "      <td>present</td>\n",
       "      <td>[351, 282, 111, 377]</td>\n",
       "      <td>[847.7, 846.3, 474.2, 394.3, 384.5]</td>\n",
       "      <td>[523.0, 401.5, 425.2, 504.0, 538.4]</td>\n",
       "      <td>[149, 107, 109, 232, 417]</td>\n",
       "      <td>5</td>\n",
       "      <td>1</td>\n",
       "      <td>945</td>\n",
       "      <td>train</td>\n",
       "    </tr>\n",
       "    <tr>\n",
       "      <th>2</th>\n",
       "      <td>000000058864.jpg</td>\n",
       "      <td>2</td>\n",
       "      <td>bottle</td>\n",
       "      <td>present</td>\n",
       "      <td>[1072, 121, 127, 337]</td>\n",
       "      <td>[845.8, 858.1, 1106.5, 1183.2]</td>\n",
       "      <td>[530.7, 467.4, 319.7, 295.0]</td>\n",
       "      <td>[60, 109, 297, 480]</td>\n",
       "      <td>4</td>\n",
       "      <td>1</td>\n",
       "      <td>835</td>\n",
       "      <td>train</td>\n",
       "    </tr>\n",
       "    <tr>\n",
       "      <th>3</th>\n",
       "      <td>000000142970.jpg</td>\n",
       "      <td>2</td>\n",
       "      <td>bottle</td>\n",
       "      <td>present</td>\n",
       "      <td>[981, 0, 216, 173]</td>\n",
       "      <td>[849.8, 862.4, 1168.7, 601.0, 1106.3, 1186.8, ...</td>\n",
       "      <td>[532.8, 366.1, 124.4, 51.5, 92.7, 79.9, 72.4, ...</td>\n",
       "      <td>[243, 105, 192, 147, 211, 356, 264, 339, 683, ...</td>\n",
       "      <td>10</td>\n",
       "      <td>1</td>\n",
       "      <td>2952</td>\n",
       "      <td>train</td>\n",
       "    </tr>\n",
       "    <tr>\n",
       "      <th>4</th>\n",
       "      <td>000000481185.jpg</td>\n",
       "      <td>2</td>\n",
       "      <td>bottle</td>\n",
       "      <td>present</td>\n",
       "      <td>[239, 36, 98, 187]</td>\n",
       "      <td>[848.8, 773.9, 776.2, 876.1, 1074.5, 450.8, 61...</td>\n",
       "      <td>[536.8, 191.3, 135.9, 141.0, 119.0, 137.0, 202...</td>\n",
       "      <td>[262, 148, 67, 199, 109, 283, 154, 281, 354, 3...</td>\n",
       "      <td>11</td>\n",
       "      <td>0</td>\n",
       "      <td>3184</td>\n",
       "      <td>train</td>\n",
       "    </tr>\n",
       "  </tbody>\n",
       "</table>\n",
       "</div>"
      ],
      "text/plain": [
       "               name  subject    task condition                   bbox  \\\n",
       "0  000000478726.jpg        2  bottle   present    [1063, 68, 95, 334]   \n",
       "1  000000488390.jpg        2  bottle   present   [351, 282, 111, 377]   \n",
       "2  000000058864.jpg        2  bottle   present  [1072, 121, 127, 337]   \n",
       "3  000000142970.jpg        2  bottle   present     [981, 0, 216, 173]   \n",
       "4  000000481185.jpg        2  bottle   present     [239, 36, 98, 187]   \n",
       "\n",
       "                                                   X  \\\n",
       "0              [848.2, 799.2, 731.1, 1114.4, 1121.5]   \n",
       "1                [847.7, 846.3, 474.2, 394.3, 384.5]   \n",
       "2                     [845.8, 858.1, 1106.5, 1183.2]   \n",
       "3  [849.8, 862.4, 1168.7, 601.0, 1106.3, 1186.8, ...   \n",
       "4  [848.8, 773.9, 776.2, 876.1, 1074.5, 450.8, 61...   \n",
       "\n",
       "                                                   Y  \\\n",
       "0                [517.2, 476.2, 383.4, 271.1, 205.9]   \n",
       "1                [523.0, 401.5, 425.2, 504.0, 538.4]   \n",
       "2                       [530.7, 467.4, 319.7, 295.0]   \n",
       "3  [532.8, 366.1, 124.4, 51.5, 92.7, 79.9, 72.4, ...   \n",
       "4  [536.8, 191.3, 135.9, 141.0, 119.0, 137.0, 202...   \n",
       "\n",
       "                                                   T  length  correct    RT  \\\n",
       "0                            [73, 193, 95, 635, 592]       5        1  1159   \n",
       "1                          [149, 107, 109, 232, 417]       5        1   945   \n",
       "2                                [60, 109, 297, 480]       4        1   835   \n",
       "3  [243, 105, 192, 147, 211, 356, 264, 339, 683, ...      10        1  2952   \n",
       "4  [262, 148, 67, 199, 109, 283, 154, 281, 354, 3...      11        0  3184   \n",
       "\n",
       "   split  \n",
       "0  train  \n",
       "1  train  \n",
       "2  train  \n",
       "3  train  \n",
       "4  train  "
      ]
     },
     "execution_count": 6,
     "metadata": {},
     "output_type": "execute_result"
    }
   ],
   "source": [
    "df_train.head(5)"
   ]
  },
  {
   "cell_type": "code",
   "execution_count": null,
   "metadata": {},
   "outputs": [],
   "source": [
    "with open(\"./debug/annotations.json\", \"r\") as f:\n",
    "    project_json = json.load(f)\n",
    "    \n",
    "project_json.keys()"
   ]
  },
  {
   "cell_type": "code",
   "execution_count": null,
   "metadata": {},
   "outputs": [],
   "source": [
    "project_json['images']"
   ]
  },
  {
   "cell_type": "code",
   "execution_count": null,
   "metadata": {},
   "outputs": [],
   "source": [
    "%%capture\n",
    "dataset = COCODatasetWithID(\"./coco18_test.json\", './coco18_test', image_size =(224,224))\n",
    "dataloader = DataLoader(dataset, batch_size=32, num_workers=4, shuffle=True, pin_memory=True, drop_last=True)"
   ]
  },
  {
   "cell_type": "code",
   "execution_count": null,
   "metadata": {},
   "outputs": [],
   "source": [
    "image, target_image, bbox_relative, label, annotation_id = dataset[0]"
   ]
  },
  {
   "cell_type": "code",
   "execution_count": null,
   "metadata": {},
   "outputs": [],
   "source": [
    "dataset.image_size"
   ]
  },
  {
   "cell_type": "code",
   "execution_count": null,
   "metadata": {},
   "outputs": [],
   "source": [
    "plt.imshow(transforms.ToPILImage()(image)).figure"
   ]
  },
  {
   "cell_type": "code",
   "execution_count": null,
   "metadata": {},
   "outputs": [],
   "source": [
    "print(bbox_relative, label, annotation_id)"
   ]
  },
  {
   "cell_type": "code",
   "execution_count": null,
   "metadata": {},
   "outputs": [],
   "source": [
    "dataset.id2file[20000]"
   ]
  },
  {
   "cell_type": "code",
   "execution_count": null,
   "metadata": {},
   "outputs": [],
   "source": [
    "project_json['categories']"
   ]
  },
  {
   "cell_type": "code",
   "execution_count": null,
   "metadata": {},
   "outputs": [],
   "source": [
    "project_json['annotations']"
   ]
  },
  {
   "cell_type": "markdown",
   "metadata": {},
   "source": [
    "extract image feature"
   ]
  },
  {
   "cell_type": "code",
   "execution_count": null,
   "metadata": {},
   "outputs": [],
   "source": [
    "def jsonfileprocessing(df):\n",
    "    df = df[['name', 'subject', 'task', 'bbox', 'correct']]\n",
    "    df = df[df['subject'] == 1]\n",
    "    df.drop(columns = ['subject', 'correct'], inplace = True)\n",
    "    df.reset_index(inplace = True, drop = True)\n",
    "\n",
    "    # to find out duplicate file names\n",
    "    counts = df['name'].value_counts()\n",
    "    name_duplicate = [k for k, v in counts.items() if v > 1]\n",
    "    df_duplicate = df[df[\"name\"].isin(name_duplicate)]\n",
    "    df_duplicate.reset_index(inplace = True, drop = True)\n",
    "\n",
    "    df_unique = df[~df[\"name\"].isin(name_duplicate)]\n",
    "    df_unique.reset_index(inplace = True, drop = True)\n",
    "    # return  \n",
    "    return df_unique, df_duplicate"
   ]
  },
  {
   "cell_type": "markdown",
   "metadata": {},
   "source": [
    "transfer COCO18 json file to COCO_STUFF style json file"
   ]
  },
  {
   "cell_type": "code",
   "execution_count": null,
   "metadata": {},
   "outputs": [],
   "source": [
    "def coco_dict(template_dict):\n",
    "    coco18_json = copy.deepcopy(template_dict)\n",
    "    for key in coco18_json.keys():\n",
    "        coco18_json[key].clear()\n",
    "        \n",
    "    return coco18_json"
   ]
  },
  {
   "cell_type": "code",
   "execution_count": null,
   "metadata": {},
   "outputs": [],
   "source": [
    "def coco18_json_construct(coco18_json, df, df_duplicate, info, categories, startingIdx=0):\n",
    "      coco18_json['info'] = info\n",
    "      coco18_json['categories'] = categories\n",
    "      length = len(df)\n",
    "      lookup_table = {dict['name']: dict['id'] for dict in categories}\n",
    "      # construct image features\n",
    "      for index, row in df.iterrows():\n",
    "            annotation_temp = {\n",
    "                'area': 99999,\n",
    "                'iscrowd': 0,\n",
    "                'bbox': row['bbox'],\n",
    "                'image_id': startingIdx + index,\n",
    "                'category_id': lookup_table[row['task']]\n",
    "            }\n",
    "            image_temp = {\n",
    "                'height': 1050,\n",
    "                'width': 1680,\n",
    "                'file_name': row['name'],\n",
    "                'id': startingIdx + index\n",
    "            }\n",
    "            coco18_json['annotations'].append(annotation_temp)\n",
    "            coco18_json['images'].append(image_temp) \n",
    "\n",
    "      for index, row in df_duplicate.iterrows():\n",
    "      # initialization\n",
    "            annotation_temp = {\n",
    "                'area': 99999,\n",
    "                'iscrowd': 0,\n",
    "                'bbox': None,\n",
    "                'category_id': None,\n",
    "                'image_id': None\n",
    "            }\n",
    "            image_temp = {'file_name': None, 'height': 1050, 'width': 1680, 'id': None}\n",
    "\n",
    "            annotation_temp['bbox'] = row['bbox']\n",
    "            annotation_temp['image_id'] = startingIdx + length + index\n",
    "            annotation_temp['category_id'] = lookup_table[row['task']] \n",
    "\n",
    "            image_temp['file_name'] = row['task'] + row['name']\n",
    "            image_temp['id'] = startingIdx + length + index\n",
    "\n",
    "            coco18_json['annotations'].append(annotation_temp)\n",
    "            coco18_json['images'].append(image_temp)   \n",
    "\n",
    "\n",
    "      return coco18_json"
   ]
  },
  {
   "cell_type": "code",
   "execution_count": null,
   "metadata": {},
   "outputs": [],
   "source": [
    "def copyfiles(src, dest, df, df_duplicate):\n",
    "    # sourcery skip: use-fstring-for-concatenation\n",
    "    # unique filename\n",
    "    for index, row in df.iterrows():\n",
    "        srcfile = src + row['task'] + \"/\" + row[\"name\"]\n",
    "        destfile = dest + \"/\" + row[\"name\"]\n",
    "        if os.path.exists(destfile):\n",
    "            continue\n",
    "        else:\n",
    "            shutil.copy(srcfile, destfile)\n",
    "        \n",
    "    for index, row in df_duplicate.iterrows():\n",
    "        srcfile = src + row['task'] + \"/\" + row[\"name\"]\n",
    "        destfile = dest + \"/\" + row['task'] + row[\"name\"] \n",
    "        if os.path.exists(destfile):\n",
    "            continue\n",
    "        else:\n",
    "            shutil.copy(srcfile, destfile)\n",
    "    "
   ]
  },
  {
   "cell_type": "code",
   "execution_count": null,
   "metadata": {},
   "outputs": [],
   "source": [
    "def dict2jsonsave(json_dict, type_data):\n",
    "    json_str = json.dumps(json_dict, indent = 4)\n",
    "    filename = f'coco18_{type_data}.json'\n",
    "    with open(filename, 'w') as json_file:\n",
    "        json_file.write(json_str)"
   ]
  },
  {
   "cell_type": "code",
   "execution_count": null,
   "metadata": {},
   "outputs": [],
   "source": [
    "df_train, df_train_duplicate = jsonfileprocessing(df_train)\n",
    "df_valid, df_valid_duplicate = jsonfileprocessing(df_valid)\n",
    "df_test, df_test_duplicate = jsonfileprocessing(df_test)"
   ]
  },
  {
   "cell_type": "markdown",
   "metadata": {},
   "source": [
    "processing training set"
   ]
  },
  {
   "cell_type": "code",
   "execution_count": null,
   "metadata": {},
   "outputs": [],
   "source": [
    "coco18_train_json = coco_dict(project_json)\n",
    "info = {'description': 'COCO18 search dataset'}\n",
    "categories = [\n",
    "    {'id': 3, 'name': 'car'},\n",
    "    {'id': 13, 'name': 'stop sign'}, \n",
    "    {'id': 44, 'name': 'bottle'},\n",
    "    {'id': 47, 'name': 'cup'}, \n",
    "    {'id': 48, 'name': 'fork'},\n",
    "    {'id': 49, 'name': 'knife'},  \n",
    "    {'id': 51, 'name': 'bowl'},\n",
    "    {'id': 62, 'name': 'chair'}, \n",
    "    {'id': 64, 'name': 'potted plant'}, \n",
    "    {'id': 70, 'name': 'toilet'}, \n",
    "    {'id': 72, 'name': 'tv'},\n",
    "    {'id': 73, 'name': 'laptop'},\n",
    "    {'id': 74, 'name': 'mouse'}, \n",
    "    {'id': 76, 'name': 'keyboard'},  \n",
    "    {'id': 78, 'name': 'microwave'}, \n",
    "    {'id': 79, 'name': 'oven'}, \n",
    "    {'id': 81, 'name': 'sink'}, \n",
    "    {'id': 85, 'name': 'clock'}\n",
    "]\n",
    "coco18_train_json = coco18_json_construct(coco18_train_json, df_train, df_train_duplicate ,info, categories)\n",
    "source_folder = './coco18_images/'\n",
    "destination_folder = './coco18_train'\n",
    "copyfiles(source_folder, destination_folder, df_train, df_train_duplicate)\n",
    "dict2jsonsave(coco18_train_json, 'train')\n"
   ]
  },
  {
   "cell_type": "markdown",
   "metadata": {},
   "source": [
    "validation dataset"
   ]
  },
  {
   "cell_type": "code",
   "execution_count": null,
   "metadata": {},
   "outputs": [],
   "source": [
    "coco18_valid_json = coco_dict(project_json)\n",
    "coco18_valid_json = coco18_json_construct(coco18_valid_json, df_valid, df_valid_duplicate, info, categories, 10000)\n",
    "source_folder = './coco18_images/'\n",
    "destination_folder = './coco18_valid'\n",
    "copyfiles(source_folder, destination_folder, df_valid, df_valid_duplicate)\n",
    "dict2jsonsave(coco18_valid_json, 'valid')"
   ]
  },
  {
   "cell_type": "code",
   "execution_count": null,
   "metadata": {},
   "outputs": [],
   "source": [
    "coco18_test_json = coco_dict(project_json)\n",
    "coco18_test_json = coco18_json_construct(coco18_test_json, df_test, df_test_duplicate, info, categories, 20000)\n",
    "source_folder = './coco18_images/'\n",
    "destination_folder = './coco18_test'\n",
    "copyfiles(source_folder, destination_folder, df_test, df_test_duplicate)\n",
    "dict2jsonsave(coco18_test_json, 'test')"
   ]
  }
 ],
 "metadata": {
  "interpreter": {
   "hash": "ff3c5d4e84e70bd69d08de6f672a9b55ed7e01a72700fa1f24565cb6d24c2072"
  },
  "kernelspec": {
   "display_name": "Python 3.9 (tensorflow)",
   "language": "python",
   "name": "python3"
  },
  "language_info": {
   "codemirror_mode": {
    "name": "ipython",
    "version": 3
   },
   "file_extension": ".py",
   "mimetype": "text/x-python",
   "name": "python",
   "nbconvert_exporter": "python",
   "pygments_lexer": "ipython3",
   "version": "3.9.13"
  },
  "orig_nbformat": 4
 },
 "nbformat": 4,
 "nbformat_minor": 2
}
