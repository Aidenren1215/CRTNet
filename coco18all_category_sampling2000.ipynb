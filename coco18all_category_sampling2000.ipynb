{
 "cells": [
  {
   "cell_type": "code",
   "execution_count": 1,
   "metadata": {},
   "outputs": [],
   "source": [
    "import numpy as np\n",
    "import pandas as pd\n",
    "from matplotlib import pyplot as plt\n",
    "%matplotlib inline\n",
    "import os\n",
    "import json\n",
    "import copy\n",
    "import shutil\n",
    "import PIL\n",
    "import pickle\n",
    "import pathlib\n",
    "import yaml\n",
    "\n",
    "import torch\n",
    "import torch.nn as nn\n",
    "from torch.utils.data import DataLoader\n",
    "from torchvision import datasets, models, transforms, utils\n",
    "from torch.nn.modules.conv import Conv2d\n",
    "\n",
    "from tqdm import tqdm, trange\n",
    "from ml_collections import ConfigDict\n",
    "from core.dataset import COCODataset, COCODatasetWithID, COCODatasetGeneral\n",
    "from core.model import Model\n",
    "from core.metrics import AccuracyLogger\n",
    "from collections import Counter, OrderedDict, defaultdict"
   ]
  },
  {
   "cell_type": "code",
   "execution_count": 44,
   "metadata": {},
   "outputs": [
    {
     "name": "stdout",
     "output_type": "stream",
     "text": [
      "-------------------------------\n",
      "Annotation Counts\n",
      "-------------------------------\n",
      "potted plant               8631\n",
      "tv                         5803\n",
      "bottle                    24070\n",
      "chair                     38073\n",
      "car                       43533\n",
      "stop sign                  1983\n",
      "clock                      6320\n",
      "cup                       20574\n",
      "fork                       5474\n",
      "knife                      7760\n",
      "bowl                      14323\n",
      "toilet                     4149\n",
      "laptop                     4960\n",
      "mouse                      2261\n",
      "keyboard                   2854\n",
      "microwave                  1672\n",
      "oven                       3334\n",
      "sink                       5609\n",
      "Total                    201383\n",
      "-------------------------------\n",
      "\n"
     ]
    }
   ],
   "source": [
    "dataset = COCODataset(\"./coco18_newtrainall.json\", './coco18_all', image_size =(224,224), normalize_means=[0.485, 0.456, 0.406], normalize_stds=[0.229, 0.224, 0.225])"
   ]
  },
  {
   "cell_type": "code",
   "execution_count": 48,
   "metadata": {},
   "outputs": [
    {
     "data": {
      "text/plain": [
       "'bottle'"
      ]
     },
     "execution_count": 48,
     "metadata": {},
     "output_type": "execute_result"
    }
   ],
   "source": [
    "context_images, target_images, bbox, labels_cpu = dataset[228]\n",
    "dataset.idx2label[labels_cpu]"
   ]
  },
  {
   "cell_type": "code",
   "execution_count": null,
   "metadata": {},
   "outputs": [],
   "source": []
  },
  {
   "cell_type": "code",
   "execution_count": 16,
   "metadata": {},
   "outputs": [],
   "source": [
    "category_sampling = {dataset.idx2label[i]: [] for i in range(18)}\n",
    "category_count = {dataset.idx2label[i]: 0 for i in range(18)}"
   ]
  },
  {
   "cell_type": "code",
   "execution_count": 38,
   "metadata": {},
   "outputs": [
    {
     "name": "stderr",
     "output_type": "stream",
     "text": [
      "100%|██████████| 201383/201383 [22:33<00:00, 148.77it/s]\n"
     ]
    }
   ],
   "source": [
    "num_pics = len(dataset)\n",
    "sampling_size = 800\n",
    "\n",
    "for id in trange(num_pics):\n",
    "    context_images, target_images, bbox, labels_cpu = dataset[id]\n",
    "    label_name = dataset.idx2label[labels_cpu]\n",
    "    if category_count[label_name] < sampling_size:\n",
    "        category_sampling[label_name].append(target_images)\n",
    "        category_count[label_name] += 1\n",
    "        \n"
   ]
  },
  {
   "cell_type": "code",
   "execution_count": 45,
   "metadata": {},
   "outputs": [],
   "source": [
    "category_idx_all = {dataset.idx2label[i]: [] for i in range(18)}"
   ]
  },
  {
   "cell_type": "code",
   "execution_count": 46,
   "metadata": {},
   "outputs": [
    {
     "name": "stderr",
     "output_type": "stream",
     "text": [
      "100%|██████████| 201383/201383 [22:07<00:00, 151.68it/s]\n"
     ]
    }
   ],
   "source": [
    "for id in trange(num_pics):\n",
    "    context_images, target_images, bbox, labels_cpu = dataset[id]\n",
    "    label_name = dataset.idx2label[labels_cpu]\n",
    "    category_idx_all[label_name].append(id)"
   ]
  },
  {
   "cell_type": "code",
   "execution_count": null,
   "metadata": {},
   "outputs": [],
   "source": [
    "category_idx_all"
   ]
  },
  {
   "cell_type": "code",
   "execution_count": 19,
   "metadata": {},
   "outputs": [],
   "source": [
    "import random"
   ]
  },
  {
   "cell_type": "code",
   "execution_count": 42,
   "metadata": {},
   "outputs": [
    {
     "data": {
      "text/plain": [
       "3"
      ]
     },
     "execution_count": 42,
     "metadata": {},
     "output_type": "execute_result"
    }
   ],
   "source": [
    "random.randint(1,3)"
   ]
  },
  {
   "cell_type": "code",
   "execution_count": 51,
   "metadata": {},
   "outputs": [
    {
     "data": {
      "text/plain": [
       "43533"
      ]
     },
     "execution_count": 51,
     "metadata": {},
     "output_type": "execute_result"
    }
   ],
   "source": [
    "len(category_idx_all['car'])"
   ]
  },
  {
   "cell_type": "code",
   "execution_count": 52,
   "metadata": {},
   "outputs": [],
   "source": [
    "with open(\"coco18_idx_all.pkl\", \"wb\") as tf:\n",
    "    pickle.dump(category_idx_all,tf)"
   ]
  }
 ],
 "metadata": {
  "interpreter": {
   "hash": "43c1414c38f217884cff1e1cffc23c2d67c5afb54d97d353bb13cf3457f1bc02"
  },
  "kernelspec": {
   "display_name": "Python 3.9.13 ('ml')",
   "language": "python",
   "name": "python3"
  },
  "language_info": {
   "codemirror_mode": {
    "name": "ipython",
    "version": 3
   },
   "file_extension": ".py",
   "mimetype": "text/x-python",
   "name": "python",
   "nbconvert_exporter": "python",
   "pygments_lexer": "ipython3",
   "version": "3.9.13"
  },
  "orig_nbformat": 4
 },
 "nbformat": 4,
 "nbformat_minor": 2
}
