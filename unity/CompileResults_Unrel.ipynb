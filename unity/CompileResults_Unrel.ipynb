{
 "cells": [
  {
   "cell_type": "code",
   "execution_count": 3,
   "metadata": {},
   "outputs": [
    {
     "name": "stdout",
     "output_type": "stream",
     "text": [
      "33\n",
      "33\n",
      "33\n",
      "33\n",
      "33\n",
      "33\n",
      "33\n",
      "33\n",
      "[[0.81885034 0.87093174]\n",
      " [0.71353996 0.83393884]\n",
      " [0.7132643  0.81945466]\n",
      " [0.75462228 0.784087  ]]\n",
      "[[0.03822851 0.01429065]\n",
      " [0.04241168 0.01874136]\n",
      " [0.03907112 0.02104678]\n",
      " [0.03053636 0.02038777]]\n"
     ]
    }
   ],
   "source": [
    "import json\n",
    "import numpy as np\n",
    "import scipy.io\n",
    "\n",
    "NumConds = 2\n",
    "baseline = ['our','CATNet','Faster_R-CNN','DenseNet']\n",
    "result_mean = np.zeros((len(baseline),2))\n",
    "result_std = np.zeros((len(baseline),2))\n",
    "\n",
    "for selected in range(len(baseline)):\n",
    "    with open('phillip/COCOstuff_trained_zip/zip_format/' + baseline[selected] + '/evaluation_2021-02-22/unrel_accuracies.json') as f:\n",
    "      data = json.load(f)\n",
    "      result_mean[selected,0] = data['total_accuracy']\n",
    "      allclasslist = np.array(list(data['named_class_accuracies'].values()))\n",
    "      print(len(allclasslist))\n",
    "      result_std[selected,0] = np.std(allclasslist)/np.sqrt(len(allclasslist))\n",
    "    \n",
    "    \n",
    "    with open('phillip/COCOstuff_trained_zip/zip_format/' + baseline[selected] + '/evaluation_2021-02-22/unrel_compatible_accuracies.json') as f:\n",
    "      data = json.load(f)\n",
    "      result_mean[selected,1] = data['total_accuracy']\n",
    "      allclasslist = np.array(list(data['named_class_accuracies'].values()))\n",
    "      print(len(allclasslist))\n",
    "      result_std[selected,1] = np.std(allclasslist)/np.sqrt(len(allclasslist))\n",
    "    \n",
    "\n",
    "print(result_mean)\n",
    "print(result_std)\n",
    "scipy.io.savemat('phillip/COCOstuff_trained_zip/zip_format/resultMat.mat', {'result_mean': result_mean, 'result_std': result_std})\n",
    "            \n"
   ]
  },
  {
   "cell_type": "code",
   "execution_count": null,
   "metadata": {},
   "outputs": [],
   "source": []
  },
  {
   "cell_type": "code",
   "execution_count": null,
   "metadata": {},
   "outputs": [],
   "source": []
  }
 ],
 "metadata": {
  "kernelspec": {
   "display_name": "Python 3",
   "language": "python",
   "name": "python3"
  },
  "language_info": {
   "codemirror_mode": {
    "name": "ipython",
    "version": 3
   },
   "file_extension": ".py",
   "mimetype": "text/x-python",
   "name": "python",
   "nbconvert_exporter": "python",
   "pygments_lexer": "ipython3",
   "version": "3.6.12"
  }
 },
 "nbformat": 4,
 "nbformat_minor": 4
}
