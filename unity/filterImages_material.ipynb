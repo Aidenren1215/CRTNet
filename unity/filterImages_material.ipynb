{
 "cells": [
  {
   "cell_type": "code",
   "execution_count": 15,
   "metadata": {},
   "outputs": [
    {
     "name": "stdout",
     "output_type": "stream",
     "text": [
      "2303\n"
     ]
    }
   ],
   "source": [
    "import pickle\n",
    "import pandas\n",
    "from collections import Counter\n",
    "import matplotlib.pyplot as plt\n",
    "import numpy as np\n",
    "import matplotlib\n",
    "from shutil import copyfile\n",
    "import csv\n",
    "\n",
    "apartmentlist = range(0,7) #total: 7\n",
    "rootdir = '/media/mengmi/KLAB15/Mengmi/Proj_context3/VirtualHome/unity/'\n",
    "Jasondir = rootdir + \"jason\"\n",
    "\n",
    "classnamelist = []\n",
    "roomlist = []\n",
    "apartidlist = []\n",
    "imagenamelist = []\n",
    "\n",
    "leftlist = []\n",
    "toplist = []\n",
    "rightlist = []\n",
    "bottomlist = []\n",
    "\n",
    "startStr = \"img_\"\n",
    "endStr = \"_prefab_\"\n",
    "\n",
    "f = open(rootdir + \"filtered_material/overall.txt\", \"r\")    \n",
    "for x in f:\n",
    "    pklname = (Jasondir + x[8:]).rstrip('.png\\n') + '.pkl'\n",
    "    infor = pickle.load( open( pklname, \"rb\" ) )        \n",
    "    targetclassname = infor['target_node']['class_name']\n",
    "    targetroom = infor['targetroomname']\n",
    "    apartmentid = int(pklname[pklname.find('apartment_')+len('apartment_')])\n",
    "    targetid = int(x[x.find(startStr)+len(startStr):x.rfind(endStr)])\n",
    "    JasonData = infor['JasonData']\n",
    "    for obj in JasonData.items():\n",
    "        if obj[1]['prefab_id'] == targetid:            \n",
    "            left = obj[1]['bbox'][2]\n",
    "            top = obj[1]['bbox'][0]\n",
    "            right = obj[1]['bbox'][3]\n",
    "            bottom = obj[1]['bbox'][1]\n",
    "            break    \n",
    "\n",
    "    roomlist.append(targetroom)\n",
    "    apartidlist.append(apartmentid)        \n",
    "    classnamelist.append(targetclassname)\n",
    "    imagenamelist.append(x)\n",
    "\n",
    "    leftlist.append(left)\n",
    "    toplist.append(top)\n",
    "    rightlist.append(right)\n",
    "    bottomlist.append(bottom)\n",
    " \n",
    "        \n",
    "print(len(roomlist))\n",
    "rows = zip(classnamelist,apartidlist,roomlist,imagenamelist,leftlist,toplist,rightlist,bottomlist)\n",
    "newfilePath = '/home/mengmi/Projects/Proj_context3/VirtualHome/matlab/Mat/jason_material_combined.csv'\n",
    "\n",
    "with open(newfilePath, \"w\") as f:\n",
    "    fieldnames = ['classname', 'apartmentid','room','imagename','left','top','right','bottom']\n",
    "    #writer = csv.writer(f)\n",
    "    writer = csv.DictWriter(f, fieldnames=fieldnames)\n",
    "    writer.writeheader()\n",
    "    #writer.writerow({'classname': classnamelist, 'apartmentid': apartidlist})\n",
    "    for i, content in enumerate(classnamelist):\n",
    "        writer.writerow({'classname': classnamelist[i],\n",
    "                        'apartmentid': apartidlist[i],\n",
    "                         'left': leftlist[i],\n",
    "                         'top': toplist[i],\n",
    "                         'right': rightlist[i],\n",
    "                        'bottom': bottomlist[i],\n",
    "                        'room': roomlist[i],\n",
    "                        'imagename':imagenamelist[i]})"
   ]
  },
  {
   "cell_type": "code",
   "execution_count": null,
   "metadata": {},
   "outputs": [],
   "source": []
  }
 ],
 "metadata": {
  "kernelspec": {
   "display_name": "Python 3",
   "language": "python",
   "name": "python3"
  },
  "language_info": {
   "codemirror_mode": {
    "name": "ipython",
    "version": 3
   },
   "file_extension": ".py",
   "mimetype": "text/x-python",
   "name": "python",
   "nbconvert_exporter": "python",
   "pygments_lexer": "ipython3",
   "version": "3.6.12"
  }
 },
 "nbformat": 4,
 "nbformat_minor": 4
}
